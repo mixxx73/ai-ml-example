{
 "cells": [
  {
   "cell_type": "code",
   "execution_count": null,
   "id": "53bf8c16-4082-4d7b-a57f-fa62863789e9",
   "metadata": {},
   "outputs": [],
   "source": [
    "import tensorflow as tf\n",
    "import numpy as np\n",
    "import matplotlib.pyplot as plt\n",
    "\n",
    "# Sprawdzenie, czy TensorFlow widzi GPU\n",
    "print(\"GPU dostępne:\", tf.config.list_physical_devices('GPU'))\n",
    "\n",
    "# Generujemy sztuczne dane: y = sin(x)\n",
    "x = np.linspace(-5, 5, 1000)\n",
    "y = np.sin(x)\n",
    "\n",
    "# Tworzymy prosty model (1 warstwa gęsta)\n",
    "model = tf.keras.Sequential([\n",
    "    tf.keras.layers.Dense(64, activation='relu', input_shape=(1,)),\n",
    "    tf.keras.layers.Dense(1)\n",
    "])\n",
    "\n",
    "model.compile(optimizer='adam', loss='mse')\n",
    "\n",
    "# Trenujemy model\n",
    "history = model.fit(x, y, epochs=100, verbose=0)\n",
    "\n",
    "# Rysujemy wykres błędu\n",
    "plt.plot(history.history['loss'])\n",
    "plt.title(\"Błąd (loss) podczas treningu\")\n",
    "plt.xlabel(\"Epoka\")\n",
    "plt.ylabel(\"MSE loss\")\n",
    "plt.grid()\n",
    "plt.show()\n",
    "\n",
    "# Przykładowa predykcja\n",
    "pred = model.predict(np.array([[1.0]]))\n",
    "print(\"Predykcja dla x=1:\", pred)\n"
   ]
  }
 ],
 "metadata": {
  "kernelspec": {
   "display_name": "Python 3 (ipykernel)",
   "language": "python",
   "name": "python3"
  },
  "language_info": {
   "codemirror_mode": {
    "name": "ipython",
    "version": 3
   },
   "file_extension": ".py",
   "mimetype": "text/x-python",
   "name": "python",
   "nbconvert_exporter": "python",
   "pygments_lexer": "ipython3",
   "version": "3.10.12"
  }
 },
 "nbformat": 4,
 "nbformat_minor": 5
}
