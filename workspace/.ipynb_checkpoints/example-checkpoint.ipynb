{
 "cells": [
  {
   "cell_type": "code",
   "execution_count": null,
   "id": "9352f99597331dc3",
   "metadata": {},
   "outputs": [],
   "source": [
    "# example.ipynb — test PyTorch + GPU + Matplotlib\n",
    "\n",
    "import torch\n",
    "import matplotlib.pyplot as plt\n",
    "\n",
    "# Sprawdź, czy GPU jest dostępne\n",
    "device = \"cuda\" if torch.cuda.is_available() else \"cpu\"\n",
    "print(f\"Używane urządzenie: {device}\")\n",
    "\n",
    "# Prosty tensor na GPU\n",
    "x = torch.linspace(-5, 5, 1000, device=device)\n",
    "y = torch.sin(x)\n",
    "\n",
    "# Przenieś do CPU i narysuj\n",
    "x_cpu = x.cpu().numpy()\n",
    "y_cpu = y.cpu().numpy()\n",
    "\n",
    "plt.plot(x_cpu, y_cpu)\n",
    "plt.title(\"sin(x) na GPU\")\n",
    "plt.grid()\n",
    "plt.show()\n",
    "# example.ipynb — test PyTorch + GPU + Matplotlib\n",
    "\n",
    "import torch\n",
    "import matplotlib.pyplot as plt\n",
    "\n",
    "# Sprawdź, czy GPU jest dostępne\n",
    "device = \"cuda\" if torch.cuda.is_available() else \"cpu\"\n",
    "print(f\"Używane urządzenie: {device}\")\n",
    "\n",
    "# Prosty tensor na GPU\n",
    "x = torch.linspace(-5, 5, 1000, device=device)\n",
    "y = torch.sin(x)\n",
    "\n",
    "# Przenieś do CPU i narysuj\n",
    "x_cpu = x.cpu().numpy()\n",
    "y_cpu = y.cpu().numpy()\n",
    "\n",
    "plt.plot(x_cpu, y_cpu)\n",
    "plt.title(\"sin(x) na GPU\")\n",
    "plt.grid()\n",
    "plt.show()\n"
   ]
  }
 ],
 "metadata": {
  "kernelspec": {
   "display_name": "Python 3 (ipykernel)",
   "language": "python",
   "name": "python3"
  },
  "language_info": {
   "codemirror_mode": {
    "name": "ipython",
    "version": 3
   },
   "file_extension": ".py",
   "mimetype": "text/x-python",
   "name": "python",
   "nbconvert_exporter": "python",
   "pygments_lexer": "ipython3",
   "version": "3.10.12"
  }
 },
 "nbformat": 4,
 "nbformat_minor": 5
}
